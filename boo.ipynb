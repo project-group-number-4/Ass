{
 "cells": [
  {
   "cell_type": "code",
   "execution_count": 1,
   "id": "19dca890",
   "metadata": {},
   "outputs": [],
   "source": [
    "import json"
   ]
  },
  {
   "cell_type": "code",
   "execution_count": 4,
   "id": "08cd04f1",
   "metadata": {},
   "outputs": [],
   "source": [
    "file =  open(\"C:/Users/Lenovo/Documents/مدخل(عملي)/book46.json\")"
   ]
  },
  {
   "cell_type": "code",
   "execution_count": 5,
   "id": "70f1ab00",
   "metadata": {},
   "outputs": [
    {
     "data": {
      "text/plain": [
       "[{'': ''},\n",
       " {'': ''},\n",
       " {'': ''},\n",
       " {'': ' (ألف ريال)\\n(Thousand Riyals)'},\n",
       " {'': ''},\n",
       " {'': 'نهاية الربع  الثاني  عام  2022م'},\n",
       " {'': '(111 مؤسسة مالية مرخصة)'},\n",
       " {'': 'Second quarter \\n2022'},\n",
       " {'': '(111 Authorized financial institution)'},\n",
       " {'': ''},\n",
       " {'': 35311358.0},\n",
       " {'': 16008017.0},\n",
       " {'': 51319375.0},\n",
       " {'': ''},\n",
       " {'': ''},\n",
       " {'': 15660410.0},\n",
       " {'': 1761642.0},\n",
       " {'': 17422052.0},\n",
       " {'': ''},\n",
       " {'': ''},\n",
       " {'': 16904937.0},\n",
       " {'': 2785320.0},\n",
       " {'': 14200337.0},\n",
       " {'': 10218.0},\n",
       " {'': -48659.0},\n",
       " {'': 33852153.0},\n",
       " {'': 45170.0},\n",
       " {'': 33897323.0},\n",
       " {'': 51319375.0}]"
      ]
     },
     "execution_count": 5,
     "metadata": {},
     "output_type": "execute_result"
    }
   ],
   "source": [
    "json.load(file)"
   ]
  },
  {
   "cell_type": "code",
   "execution_count": null,
   "id": "01ce4846",
   "metadata": {},
   "outputs": [],
   "source": []
  }
 ],
 "metadata": {
  "kernelspec": {
   "display_name": "Python 3 (ipykernel)",
   "language": "python",
   "name": "python3"
  },
  "language_info": {
   "codemirror_mode": {
    "name": "ipython",
    "version": 3
   },
   "file_extension": ".py",
   "mimetype": "text/x-python",
   "name": "python",
   "nbconvert_exporter": "python",
   "pygments_lexer": "ipython3",
   "version": "3.9.12"
  }
 },
 "nbformat": 4,
 "nbformat_minor": 5
}
