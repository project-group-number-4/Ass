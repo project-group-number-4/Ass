{
 "cells": [
  {
   "cell_type": "code",
   "execution_count": 1,
   "id": "7a2c539a",
   "metadata": {},
   "outputs": [
    {
     "data": {
      "text/plain": [
       "'C:\\\\Users\\\\Lenovo\\\\Desktop'"
      ]
     },
     "execution_count": 1,
     "metadata": {},
     "output_type": "execute_result"
    }
   ],
   "source": [
    "import os\n",
    "os.getcwd()"
   ]
  },
  {
   "cell_type": "code",
   "execution_count": 2,
   "id": "251c15ed",
   "metadata": {},
   "outputs": [],
   "source": [
    "import pandas as pd"
   ]
  },
  {
   "cell_type": "code",
   "execution_count": 7,
   "id": "07f2ae11",
   "metadata": {},
   "outputs": [],
   "source": [
    "#Load the Excel file which has extension of .xlsx\n",
    "data = pd.read_json(\"number-of-smes-2022-q1.json\")"
   ]
  },
  {
   "cell_type": "code",
   "execution_count": 8,
   "id": "eaffa091",
   "metadata": {},
   "outputs": [
    {
     "data": {
      "text/html": [
       "<div>\n",
       "<style scoped>\n",
       "    .dataframe tbody tr th:only-of-type {\n",
       "        vertical-align: middle;\n",
       "    }\n",
       "\n",
       "    .dataframe tbody tr th {\n",
       "        vertical-align: top;\n",
       "    }\n",
       "\n",
       "    .dataframe thead th {\n",
       "        text-align: right;\n",
       "    }\n",
       "</style>\n",
       "<table border=\"1\" class=\"dataframe\">\n",
       "  <thead>\n",
       "    <tr style=\"text-align: right;\">\n",
       "      <th></th>\n",
       "      <th>عدد المنشآت متناهية الصغر</th>\n",
       "      <th>عدد المنشآت الصغيرة</th>\n",
       "      <th>النشاط الاقتصادي</th>\n",
       "      <th>عدد المنشآت المتوسطة</th>\n",
       "      <th>عدد المنشآت الكبيرة</th>\n",
       "      <th>عدد المنشآت</th>\n",
       "      <th>المنطقة</th>\n",
       "      <th>السنة</th>\n",
       "      <th>الربع</th>\n",
       "    </tr>\n",
       "  </thead>\n",
       "  <tbody>\n",
       "    <tr>\n",
       "      <th>0</th>\n",
       "      <td>124</td>\n",
       "      <td>30</td>\n",
       "      <td>أبحاث الإعلان والسوق</td>\n",
       "      <td>1</td>\n",
       "      <td>0</td>\n",
       "      <td>155</td>\n",
       "      <td>مكتب المنطقة الشرقية</td>\n",
       "      <td>2022</td>\n",
       "      <td>1</td>\n",
       "    </tr>\n",
       "    <tr>\n",
       "      <th>1</th>\n",
       "      <td>302</td>\n",
       "      <td>74</td>\n",
       "      <td>إصلاح أجهزة الحاسوب والسلع الشخصية والمنزلية</td>\n",
       "      <td>9</td>\n",
       "      <td>1</td>\n",
       "      <td>386</td>\n",
       "      <td>مكتب المنطقة الشرقية</td>\n",
       "      <td>2022</td>\n",
       "      <td>1</td>\n",
       "    </tr>\n",
       "    <tr>\n",
       "      <th>2</th>\n",
       "      <td>201</td>\n",
       "      <td>72</td>\n",
       "      <td>إصلاح وتركيب الآلات والمعدات</td>\n",
       "      <td>6</td>\n",
       "      <td>1</td>\n",
       "      <td>280</td>\n",
       "      <td>مكتب المنطقة الشرقية</td>\n",
       "      <td>2022</td>\n",
       "      <td>1</td>\n",
       "    </tr>\n",
       "    <tr>\n",
       "      <th>3</th>\n",
       "      <td>30</td>\n",
       "      <td>4</td>\n",
       "      <td>أنشطة أنتاج الأفلام والبرامج التلفزيونية والتس...</td>\n",
       "      <td>0</td>\n",
       "      <td>0</td>\n",
       "      <td>34</td>\n",
       "      <td>مكتب المنطقة الشرقية</td>\n",
       "      <td>2022</td>\n",
       "      <td>1</td>\n",
       "    </tr>\n",
       "    <tr>\n",
       "      <th>4</th>\n",
       "      <td>22</td>\n",
       "      <td>17</td>\n",
       "      <td>أنشطة الأمن والتحقيقات</td>\n",
       "      <td>11</td>\n",
       "      <td>4</td>\n",
       "      <td>54</td>\n",
       "      <td>مكتب المنطقة الشرقية</td>\n",
       "      <td>2022</td>\n",
       "      <td>1</td>\n",
       "    </tr>\n",
       "  </tbody>\n",
       "</table>\n",
       "</div>"
      ],
      "text/plain": [
       "   عدد المنشآت متناهية الصغر   عدد المنشآت الصغيرة   \\\n",
       "0                         124                    30   \n",
       "1                         302                    74   \n",
       "2                         201                    72   \n",
       "3                          30                     4   \n",
       "4                          22                    17   \n",
       "\n",
       "                                   النشاط الاقتصادي   عدد المنشآت المتوسطة   \\\n",
       "0                               أبحاث الإعلان والسوق                      1   \n",
       "1       إصلاح أجهزة الحاسوب والسلع الشخصية والمنزلية                      9   \n",
       "2                       إصلاح وتركيب الآلات والمعدات                      6   \n",
       "3  أنشطة أنتاج الأفلام والبرامج التلفزيونية والتس...                      0   \n",
       "4                             أنشطة الأمن والتحقيقات                     11   \n",
       "\n",
       "   عدد المنشآت الكبيرة   عدد المنشآت               المنطقة   السنة  الربع   \n",
       "0                     0           155  مكتب المنطقة الشرقية   2022       1  \n",
       "1                     1           386  مكتب المنطقة الشرقية   2022       1  \n",
       "2                     1           280  مكتب المنطقة الشرقية   2022       1  \n",
       "3                     0            34  مكتب المنطقة الشرقية   2022       1  \n",
       "4                     4            54  مكتب المنطقة الشرقية   2022       1  "
      ]
     },
     "execution_count": 8,
     "metadata": {},
     "output_type": "execute_result"
    }
   ],
   "source": [
    "data.head()"
   ]
  },
  {
   "cell_type": "code",
   "execution_count": null,
   "id": "63203d2f",
   "metadata": {},
   "outputs": [],
   "source": []
  }
 ],
 "metadata": {
  "kernelspec": {
   "display_name": "Python 3 (ipykernel)",
   "language": "python",
   "name": "python3"
  },
  "language_info": {
   "codemirror_mode": {
    "name": "ipython",
    "version": 3
   },
   "file_extension": ".py",
   "mimetype": "text/x-python",
   "name": "python",
   "nbconvert_exporter": "python",
   "pygments_lexer": "ipython3",
   "version": "3.9.12"
  }
 },
 "nbformat": 4,
 "nbformat_minor": 5
}
